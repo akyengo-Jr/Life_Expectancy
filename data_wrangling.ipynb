{
 "cells": [
  {
   "cell_type": "markdown",
   "id": "e5dc5e60",
   "metadata": {},
   "source": [
    "## My Personal Data Cleaning Thought Process\n",
    "\n",
    "#### This notebook documents my step-by-step approach to cleaning the Life Expectancy dataset before building linear regression models (both single and multivariate). I'll include my thought process, decisions, and reasoning behind each cleaning step.\n",
    "\n"
   ]
  },
  {
   "cell_type": "markdown",
   "id": "e25d4fd4",
   "metadata": {},
   "source": [
    "## Step 1: Initial Data Exploration\n",
    "* Goal: Understand the dataset's structure, missing values, and potential issues.\n",
    "\n"
   ]
  },
  {
   "cell_type": "code",
   "execution_count": 1,
   "id": "4938554c",
   "metadata": {},
   "outputs": [
    {
     "name": "stdout",
     "output_type": "stream",
     "text": [
      "Dataset shape: (2938, 22)\n",
      "\n",
      "First 5 rows:\n"
     ]
    },
    {
     "data": {
      "text/html": [
       "<div>\n",
       "<style scoped>\n",
       "    .dataframe tbody tr th:only-of-type {\n",
       "        vertical-align: middle;\n",
       "    }\n",
       "\n",
       "    .dataframe tbody tr th {\n",
       "        vertical-align: top;\n",
       "    }\n",
       "\n",
       "    .dataframe thead th {\n",
       "        text-align: right;\n",
       "    }\n",
       "</style>\n",
       "<table border=\"1\" class=\"dataframe\">\n",
       "  <thead>\n",
       "    <tr style=\"text-align: right;\">\n",
       "      <th></th>\n",
       "      <th>Country</th>\n",
       "      <th>Year</th>\n",
       "      <th>Status</th>\n",
       "      <th>Life expectancy</th>\n",
       "      <th>Adult Mortality</th>\n",
       "      <th>infant deaths</th>\n",
       "      <th>Alcohol</th>\n",
       "      <th>percentage expenditure</th>\n",
       "      <th>Hepatitis B</th>\n",
       "      <th>Measles</th>\n",
       "      <th>...</th>\n",
       "      <th>Polio</th>\n",
       "      <th>Total expenditure</th>\n",
       "      <th>Diphtheria</th>\n",
       "      <th>HIV/AIDS</th>\n",
       "      <th>GDP</th>\n",
       "      <th>Population</th>\n",
       "      <th>thinness  1-19 years</th>\n",
       "      <th>thinness 5-9 years</th>\n",
       "      <th>Income composition of resources</th>\n",
       "      <th>Schooling</th>\n",
       "    </tr>\n",
       "  </thead>\n",
       "  <tbody>\n",
       "    <tr>\n",
       "      <th>0</th>\n",
       "      <td>Afghanistan</td>\n",
       "      <td>2015</td>\n",
       "      <td>Developing</td>\n",
       "      <td>65.0</td>\n",
       "      <td>263.0</td>\n",
       "      <td>62</td>\n",
       "      <td>0.01</td>\n",
       "      <td>71.279624</td>\n",
       "      <td>65.0</td>\n",
       "      <td>1154</td>\n",
       "      <td>...</td>\n",
       "      <td>6.0</td>\n",
       "      <td>8.16</td>\n",
       "      <td>65.0</td>\n",
       "      <td>0.1</td>\n",
       "      <td>584.259210</td>\n",
       "      <td>33736494.0</td>\n",
       "      <td>17.2</td>\n",
       "      <td>17.3</td>\n",
       "      <td>0.479</td>\n",
       "      <td>10.1</td>\n",
       "    </tr>\n",
       "    <tr>\n",
       "      <th>1</th>\n",
       "      <td>Afghanistan</td>\n",
       "      <td>2014</td>\n",
       "      <td>Developing</td>\n",
       "      <td>59.9</td>\n",
       "      <td>271.0</td>\n",
       "      <td>64</td>\n",
       "      <td>0.01</td>\n",
       "      <td>73.523582</td>\n",
       "      <td>62.0</td>\n",
       "      <td>492</td>\n",
       "      <td>...</td>\n",
       "      <td>58.0</td>\n",
       "      <td>8.18</td>\n",
       "      <td>62.0</td>\n",
       "      <td>0.1</td>\n",
       "      <td>612.696514</td>\n",
       "      <td>327582.0</td>\n",
       "      <td>17.5</td>\n",
       "      <td>17.5</td>\n",
       "      <td>0.476</td>\n",
       "      <td>10.0</td>\n",
       "    </tr>\n",
       "    <tr>\n",
       "      <th>2</th>\n",
       "      <td>Afghanistan</td>\n",
       "      <td>2013</td>\n",
       "      <td>Developing</td>\n",
       "      <td>59.9</td>\n",
       "      <td>268.0</td>\n",
       "      <td>66</td>\n",
       "      <td>0.01</td>\n",
       "      <td>73.219243</td>\n",
       "      <td>64.0</td>\n",
       "      <td>430</td>\n",
       "      <td>...</td>\n",
       "      <td>62.0</td>\n",
       "      <td>8.13</td>\n",
       "      <td>64.0</td>\n",
       "      <td>0.1</td>\n",
       "      <td>631.744976</td>\n",
       "      <td>31731688.0</td>\n",
       "      <td>17.7</td>\n",
       "      <td>17.7</td>\n",
       "      <td>0.470</td>\n",
       "      <td>9.9</td>\n",
       "    </tr>\n",
       "    <tr>\n",
       "      <th>3</th>\n",
       "      <td>Afghanistan</td>\n",
       "      <td>2012</td>\n",
       "      <td>Developing</td>\n",
       "      <td>59.5</td>\n",
       "      <td>272.0</td>\n",
       "      <td>69</td>\n",
       "      <td>0.01</td>\n",
       "      <td>78.184215</td>\n",
       "      <td>67.0</td>\n",
       "      <td>2787</td>\n",
       "      <td>...</td>\n",
       "      <td>67.0</td>\n",
       "      <td>8.52</td>\n",
       "      <td>67.0</td>\n",
       "      <td>0.1</td>\n",
       "      <td>669.959000</td>\n",
       "      <td>3696958.0</td>\n",
       "      <td>17.9</td>\n",
       "      <td>18.0</td>\n",
       "      <td>0.463</td>\n",
       "      <td>9.8</td>\n",
       "    </tr>\n",
       "    <tr>\n",
       "      <th>4</th>\n",
       "      <td>Afghanistan</td>\n",
       "      <td>2011</td>\n",
       "      <td>Developing</td>\n",
       "      <td>59.2</td>\n",
       "      <td>275.0</td>\n",
       "      <td>71</td>\n",
       "      <td>0.01</td>\n",
       "      <td>7.097109</td>\n",
       "      <td>68.0</td>\n",
       "      <td>3013</td>\n",
       "      <td>...</td>\n",
       "      <td>68.0</td>\n",
       "      <td>7.87</td>\n",
       "      <td>68.0</td>\n",
       "      <td>0.1</td>\n",
       "      <td>63.537231</td>\n",
       "      <td>2978599.0</td>\n",
       "      <td>18.2</td>\n",
       "      <td>18.2</td>\n",
       "      <td>0.454</td>\n",
       "      <td>9.5</td>\n",
       "    </tr>\n",
       "  </tbody>\n",
       "</table>\n",
       "<p>5 rows × 22 columns</p>\n",
       "</div>"
      ],
      "text/plain": [
       "       Country  Year      Status  Life expectancy   Adult Mortality  \\\n",
       "0  Afghanistan  2015  Developing              65.0            263.0   \n",
       "1  Afghanistan  2014  Developing              59.9            271.0   \n",
       "2  Afghanistan  2013  Developing              59.9            268.0   \n",
       "3  Afghanistan  2012  Developing              59.5            272.0   \n",
       "4  Afghanistan  2011  Developing              59.2            275.0   \n",
       "\n",
       "   infant deaths  Alcohol  percentage expenditure  Hepatitis B  Measles   ...  \\\n",
       "0             62     0.01               71.279624         65.0      1154  ...   \n",
       "1             64     0.01               73.523582         62.0       492  ...   \n",
       "2             66     0.01               73.219243         64.0       430  ...   \n",
       "3             69     0.01               78.184215         67.0      2787  ...   \n",
       "4             71     0.01                7.097109         68.0      3013  ...   \n",
       "\n",
       "   Polio  Total expenditure  Diphtheria    HIV/AIDS         GDP  Population  \\\n",
       "0    6.0               8.16         65.0        0.1  584.259210  33736494.0   \n",
       "1   58.0               8.18         62.0        0.1  612.696514    327582.0   \n",
       "2   62.0               8.13         64.0        0.1  631.744976  31731688.0   \n",
       "3   67.0               8.52         67.0        0.1  669.959000   3696958.0   \n",
       "4   68.0               7.87         68.0        0.1   63.537231   2978599.0   \n",
       "\n",
       "    thinness  1-19 years   thinness 5-9 years  \\\n",
       "0                   17.2                 17.3   \n",
       "1                   17.5                 17.5   \n",
       "2                   17.7                 17.7   \n",
       "3                   17.9                 18.0   \n",
       "4                   18.2                 18.2   \n",
       "\n",
       "   Income composition of resources  Schooling  \n",
       "0                            0.479       10.1  \n",
       "1                            0.476       10.0  \n",
       "2                            0.470        9.9  \n",
       "3                            0.463        9.8  \n",
       "4                            0.454        9.5  \n",
       "\n",
       "[5 rows x 22 columns]"
      ]
     },
     "execution_count": 1,
     "metadata": {},
     "output_type": "execute_result"
    }
   ],
   "source": [
    "# Import necessary libraries\n",
    "import pandas as pd\n",
    "\n",
    "# Load the dataset\n",
    "df = pd.read_csv('Life_Expectancy/Life Expectancy Data.csv')\n",
    "\n",
    "\n",
    "# First, let's see the shape and columns\n",
    "print(\"Dataset shape:\", df.shape)  # How many rows and columns?\n",
    "print(\"\\nFirst 5 rows:\")\n",
    "df.head()  # Peek at the data structure"
   ]
  },
  {
   "cell_type": "markdown",
   "id": "a2b16935",
   "metadata": {},
   "source": [
    "## Observations & Thoughts:\n",
    "* The dataset has 2938 rows and 22 columns (that's quite a bit)\n",
    "\n",
    "* Some columns like Life expectancy, Adult Mortality, and GDP seem numerical.\n",
    "\n",
    "* Country and Status are categorical.\n",
    "\n",
    "### Next: Check for missing values and duplicates."
   ]
  },
  {
   "cell_type": "code",
   "execution_count": 2,
   "id": "b14c680f",
   "metadata": {},
   "outputs": [
    {
     "name": "stdout",
     "output_type": "stream",
     "text": [
      "\n",
      "Missing values per column:\n",
      "Country                              0\n",
      "Year                                 0\n",
      "Status                               0\n",
      "Life expectancy                     10\n",
      "Adult Mortality                     10\n",
      "infant deaths                        0\n",
      "Alcohol                            194\n",
      "percentage expenditure               0\n",
      "Hepatitis B                        553\n",
      "Measles                              0\n",
      " BMI                                34\n",
      "under-five deaths                    0\n",
      "Polio                               19\n",
      "Total expenditure                  226\n",
      "Diphtheria                          19\n",
      " HIV/AIDS                            0\n",
      "GDP                                448\n",
      "Population                         652\n",
      " thinness  1-19 years               34\n",
      " thinness 5-9 years                 34\n",
      "Income composition of resources    167\n",
      "Schooling                          163\n",
      "dtype: int64\n",
      "\n",
      "Number of duplicate rows: 0\n"
     ]
    }
   ],
   "source": [
    "# Check missing values\n",
    "print(\"\\nMissing values per column:\")\n",
    "print(df.isnull().sum())\n",
    "\n",
    "# Check for duplicates\n",
    "print(\"\\nNumber of duplicate rows:\", df.duplicated().sum())"
   ]
  },
  {
   "cell_type": "markdown",
   "id": "5122a756",
   "metadata": {},
   "source": [
    "## Thoughts on Missing Data:\n",
    "Some columns (Hepatitis B, GDP, Population) have missing values.\n",
    "\n",
    "Decision:\n",
    "\n",
    "* If a column has few missing values, I might fill them with median/mean.\n",
    "\n",
    "* If a column has too many missing values, I might drop it.\n",
    "\n",
    "* First, I should analyze how missingness affects Life expectancy.\n",
    "\n"
   ]
  },
  {
   "cell_type": "markdown",
   "id": "816f5108",
   "metadata": {},
   "source": [
    "### Handle Missing Values\n",
    "Goal: Decide how to deal with missing data without distorting the analysis."
   ]
  },
  {
   "cell_type": "markdown",
   "id": "a39937f7",
   "metadata": {},
   "source": [
    "## Before handling the missing values, I will fix some improper space use in the column names"
   ]
  },
  {
   "cell_type": "code",
   "execution_count": 3,
   "id": "46bc11a6",
   "metadata": {},
   "outputs": [],
   "source": [
    "# I will handle some space problems with the column names that I have observed\n",
    "df.columns = df.columns.str.replace('  ', ' ') \n",
    "df.columns = df.columns.str.strip()# I had a hard time getting this to work\n",
    "#df.columns = [col.strip() for col in df.columns]"
   ]
  },
  {
   "cell_type": "markdown",
   "id": "b75e9d6d",
   "metadata": {},
   "source": [
    "### Now, I will check and compare percentages of the missing errors in each column and decide to fill or drop it"
   ]
  },
  {
   "cell_type": "code",
   "execution_count": 4,
   "id": "f9e5c7c7",
   "metadata": {},
   "outputs": [
    {
     "name": "stdout",
     "output_type": "stream",
     "text": [
      "Missing Values (%): \n",
      "Population                         22.191967\n",
      "Hepatitis B                        18.822328\n",
      "GDP                                15.248468\n",
      "Total expenditure                   7.692308\n",
      "Alcohol                             6.603131\n",
      "Income composition of resources     5.684139\n",
      "Schooling                           5.547992\n",
      "BMI                                 1.157250\n",
      "thinness 1-19 years                 1.157250\n",
      "thinness 5-9 years                  1.157250\n",
      "Polio                               0.646698\n",
      "Diphtheria                          0.646698\n",
      "Life expectancy                     0.340368\n",
      "Adult Mortality                     0.340368\n",
      "dtype: float64\n"
     ]
    }
   ],
   "source": [
    "missing_percent = df.isnull().mean() * 100\n",
    "print('Missing Values (%): ')\n",
    "print(missing_percent[missing_percent > 0].sort_values(ascending=False)) # Display missing values in percentages (From highest to lowest)"
   ]
  },
  {
   "cell_type": "markdown",
   "id": "2b1e82da",
   "metadata": {},
   "source": [
    "### Thoughts on result (missing values percentages):\n",
    "* Population has approximately 22% null values which is a high value and filling it may cause a change in the columns distribution (I'll most likely drop it rather than fill it with mean or mode)\n",
    "* I'm also thinking of setting my highest aceptable percent for filling to be around 15%(I actually feel like there will be a sort of relationship between GDP and Life Expectancy That's why i will fill the missing values with mean or mode.)\n",
    "* I will also drop the Hepatitis B column since the percentage is more close to 19 "
   ]
  },
  {
   "cell_type": "markdown",
   "id": "63094842",
   "metadata": {},
   "source": []
  },
  {
   "cell_type": "code",
   "execution_count": 5,
   "id": "12cd08c3",
   "metadata": {},
   "outputs": [
    {
     "data": {
      "text/plain": [
       "(2938, 20)"
      ]
     },
     "execution_count": 5,
     "metadata": {},
     "output_type": "execute_result"
    }
   ],
   "source": [
    "# Drop 'Population' and 'Hepatitis' B columns.\n",
    "df.drop(columns=['Population','Hepatitis B'], inplace=True)\n",
    "df.head()\n",
    "df.shape"
   ]
  },
  {
   "cell_type": "markdown",
   "id": "8259cad2",
   "metadata": {},
   "source": [
    "* Now to fill the some other columns"
   ]
  },
  {
   "cell_type": "code",
   "execution_count": 6,
   "id": "5e32ae99",
   "metadata": {},
   "outputs": [
    {
     "data": {
      "text/plain": [
       "Country                            0\n",
       "Year                               0\n",
       "Status                             0\n",
       "Life expectancy                    0\n",
       "Adult Mortality                    0\n",
       "infant deaths                      0\n",
       "Alcohol                            0\n",
       "percentage expenditure             0\n",
       "Measles                            0\n",
       "BMI                                0\n",
       "under-five deaths                  0\n",
       "Polio                              0\n",
       "Total expenditure                  0\n",
       "Diphtheria                         0\n",
       "HIV/AIDS                           0\n",
       "GDP                                0\n",
       "thinness 1-19 years                0\n",
       "thinness 5-9 years                 0\n",
       "Income composition of resources    0\n",
       "Schooling                          0\n",
       "dtype: int64"
      ]
     },
     "execution_count": 6,
     "metadata": {},
     "output_type": "execute_result"
    }
   ],
   "source": [
    "# fill other null values with mean\n",
    "columns_to_fill = df.isnull().mean()\n",
    "df.fillna(columns_to_fill, inplace=True)\n",
    "df.isnull().sum()"
   ]
  },
  {
   "cell_type": "markdown",
   "id": "2ef99a29",
   "metadata": {},
   "source": [
    "# Step 2: Remove duplicates:\n",
    "## This should have been done earlier."
   ]
  },
  {
   "cell_type": "code",
   "execution_count": 7,
   "id": "d95267a9",
   "metadata": {},
   "outputs": [
    {
     "data": {
      "text/plain": [
       "Country                             object\n",
       "Year                                 int64\n",
       "Status                              object\n",
       "Life expectancy                    float64\n",
       "Adult Mortality                    float64\n",
       "infant deaths                        int64\n",
       "Alcohol                            float64\n",
       "percentage expenditure             float64\n",
       "Measles                              int64\n",
       "BMI                                float64\n",
       "under-five deaths                    int64\n",
       "Polio                              float64\n",
       "Total expenditure                  float64\n",
       "Diphtheria                         float64\n",
       "HIV/AIDS                           float64\n",
       "GDP                                float64\n",
       "thinness 1-19 years                float64\n",
       "thinness 5-9 years                 float64\n",
       "Income composition of resources    float64\n",
       "Schooling                          float64\n",
       "dtype: object"
      ]
     },
     "execution_count": 7,
     "metadata": {},
     "output_type": "execute_result"
    }
   ],
   "source": [
    "# Drop duplicates\n",
    "df.drop_duplicates(inplace=True)\n",
    "df.shape\n",
    "df.dtypes"
   ]
  },
  {
   "cell_type": "markdown",
   "id": "1e02ba7c",
   "metadata": {},
   "source": [
    "# Step 3: Handle Outliers \n",
    "### I plan to cap the outliers using the 99th quantile as the upper limit and the 1st quantile as the lower limit\n",
    "* since i want to check the outliers for all the columns, I will use a for loop\n",
    "* in the Exploratory analysis notebook, I will visualize and tune it more if needed."
   ]
  },
  {
   "cell_type": "code",
   "execution_count": 8,
   "id": "5cab6b6e",
   "metadata": {},
   "outputs": [],
   "source": [
    "num_cols = df.select_dtypes(include=['int64', 'float64']).columns\n",
    "for col in num_cols:\n",
    "    upper_limit = df[col].quantile(0.99)\n",
    "    lower_limit = df[col].quantile(0.01)\n",
    "    df[col] = df[col].clip(lower= lower_limit, upper= upper_limit)"
   ]
  },
  {
   "cell_type": "markdown",
   "id": "50653aba",
   "metadata": {},
   "source": [
    "# Step 4: Encoding\n",
    "#### I will encode the countries and status of the country (it may be of significance)"
   ]
  },
  {
   "cell_type": "code",
   "execution_count": 12,
   "id": "ebbf6908",
   "metadata": {},
   "outputs": [],
   "source": [
    "cat_cols = df.select_dtypes(include= ['object']).astype(str)\n",
    "#for col in cat_cols:\n",
    " #   try:\n",
    "  #      df = pd.get_dummies(df, columns=cat_cols[col])\n",
    "   # except ValueError as e:\n",
    "    #    print(f'Error occured while one-hot encoding column {col}: {e}')\n",
    "cols_to_encode = [col for col in cat_cols if col in df.columns]\n",
    "df_encoded = pd.get_dummies(df, cols_to_encode)\n",
    "df_encoded.head()\n",
    "df_encoded.to_csv('encoded_data.csv')"
   ]
  },
  {
   "cell_type": "code",
   "execution_count": 13,
   "id": "2f276eae",
   "metadata": {},
   "outputs": [],
   "source": [
    "df.head()\n",
    "df.to_csv('cleaned_data.csv')"
   ]
  },
  {
   "cell_type": "code",
   "execution_count": null,
   "id": "6f900eb7",
   "metadata": {},
   "outputs": [],
   "source": []
  }
 ],
 "metadata": {
  "kernelspec": {
   "display_name": "Python 3 (ipykernel)",
   "language": "python",
   "name": "python3"
  },
  "language_info": {
   "codemirror_mode": {
    "name": "ipython",
    "version": 3
   },
   "file_extension": ".py",
   "mimetype": "text/x-python",
   "name": "python",
   "nbconvert_exporter": "python",
   "pygments_lexer": "ipython3",
   "version": "3.12.7"
  }
 },
 "nbformat": 4,
 "nbformat_minor": 5
}
