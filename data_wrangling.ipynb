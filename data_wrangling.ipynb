{
 "cells": [
  {
   "cell_type": "markdown",
   "id": "e5dc5e60",
   "metadata": {
    "cellUniqueIdByVincent": "4c056"
   },
   "source": [
    "# Life Expectancy Data Cleaning Notebook\n",
    "\n",
    "This notebook documents the data cleaning process for the Life Expectancy dataset in preparation for building linear regression models. The dataset contains health and economic indicators for various countries from 2000-2015.\n",
    "\n",
    "**Dataset Source**: WHO Life Expectancy Data\n",
    "\n",
    "**Cleaning Steps**:\n",
    "1. Initial Exploration\n",
    "2. Missing Value Handling\n",
    "3. Outlier Treatment\n",
    "4. Feature Engineering\n",
    "5. Data Export"
   ]
  },
  {
   "cell_type": "markdown",
   "id": "e25d4fd4",
   "metadata": {
    "cellUniqueIdByVincent": "b5778"
   },
   "source": [
    "## 1. Initial Data Exploration"
   ]
  },
  {
   "cell_type": "code",
   "execution_count": 1,
   "id": "4938554c",
   "metadata": {
    "cellUniqueIdByVincent": "f3c0e"
   },
   "outputs": [
    {
     "name": "stdout",
     "output_type": "stream",
     "text": [
      "Dataset shape: (2938, 22)\n",
      "\n",
      "First 5 rows:\n"
     ]
    },
    {
     "data": {
      "text/html": [
       "<div>\n",
       "<style scoped>\n",
       "    .dataframe tbody tr th:only-of-type {\n",
       "        vertical-align: middle;\n",
       "    }\n",
       "\n",
       "    .dataframe tbody tr th {\n",
       "        vertical-align: top;\n",
       "    }\n",
       "\n",
       "    .dataframe thead th {\n",
       "        text-align: right;\n",
       "    }\n",
       "</style>\n",
       "<table border=\"1\" class=\"dataframe\">\n",
       "  <thead>\n",
       "    <tr style=\"text-align: right;\">\n",
       "      <th></th>\n",
       "      <th>Country</th>\n",
       "      <th>Year</th>\n",
       "      <th>Status</th>\n",
       "      <th>Life expectancy</th>\n",
       "      <th>Adult Mortality</th>\n",
       "      <th>infant deaths</th>\n",
       "      <th>Alcohol</th>\n",
       "      <th>percentage expenditure</th>\n",
       "      <th>Hepatitis B</th>\n",
       "      <th>Measles</th>\n",
       "      <th>...</th>\n",
       "      <th>Polio</th>\n",
       "      <th>Total expenditure</th>\n",
       "      <th>Diphtheria</th>\n",
       "      <th>HIV/AIDS</th>\n",
       "      <th>GDP</th>\n",
       "      <th>Population</th>\n",
       "      <th>thinness  1-19 years</th>\n",
       "      <th>thinness 5-9 years</th>\n",
       "      <th>Income composition of resources</th>\n",
       "      <th>Schooling</th>\n",
       "    </tr>\n",
       "  </thead>\n",
       "  <tbody>\n",
       "    <tr>\n",
       "      <th>0</th>\n",
       "      <td>Afghanistan</td>\n",
       "      <td>2015</td>\n",
       "      <td>Developing</td>\n",
       "      <td>65.0</td>\n",
       "      <td>263.0</td>\n",
       "      <td>62</td>\n",
       "      <td>0.01</td>\n",
       "      <td>71.279624</td>\n",
       "      <td>65.0</td>\n",
       "      <td>1154</td>\n",
       "      <td>...</td>\n",
       "      <td>6.0</td>\n",
       "      <td>8.16</td>\n",
       "      <td>65.0</td>\n",
       "      <td>0.1</td>\n",
       "      <td>584.259210</td>\n",
       "      <td>33736494.0</td>\n",
       "      <td>17.2</td>\n",
       "      <td>17.3</td>\n",
       "      <td>0.479</td>\n",
       "      <td>10.1</td>\n",
       "    </tr>\n",
       "  </tbody>\n",
       "</table>\n",
       "<p>1 rows × 22 columns</p>\n",
       "</div>"
      ],
      "text/plain": [
       "       Country  Year     Status  Life expectancy  Adult Mortality  infant deaths  \\\n",
       "0  Afghanistan  2015  Developing             65.0           263.0             62   \n",
       "\n",
       "   Alcohol  percentage expenditure  Hepatitis B  Measles   ...  Polio  \\\n",
       "0     0.01              71.279624         65.0     1154  ...    6.0   \n",
       "\n",
       "   Total expenditure  Diphtheria  HIV/AIDS        GDP  Population  \\\n",
       "0               8.16        65.0       0.1  584.25921  33736494.0   \n",
       "\n",
       "   thinness  1-19 years  thinness 5-9 years  Income composition of resources  \\\n",
       "0                 17.2                17.3                            0.479   \n",
       "\n",
       "   Schooling  \n",
       "0       10.1  \n",
       "\n",
       "[1 rows x 22 columns]"
      ]
     },
     "execution_count": 1,
     "metadata": {},
     "output_type": "execute_result"
    }
   ],
   "source": [
    "import pandas as pd\n",
    "\n",
    "# Load dataset\n",
    "df = pd.read_csv('Life_Expectancy/Life Expectancy Data.csv')\n",
    "\n",
    "# Initial exploration\n",
    "print(\"Dataset shape:\", df.shape)\n",
    "print(\"\\nFirst 5 rows:\")\n",
    "df.head(1)"
   ]
  },
  {
   "cell_type": "markdown",
   "id": "a2b16935",
   "metadata": {
    "cellUniqueIdByVincent": "18714"
   },
   "source": [
    "### Key Observations:\n",
    "- 2938 rows × 22 columns\n",
    "- Mix of numerical and categorical features\n",
    "- Target variable: 'Life expectancy'\n",
    "- Some columns have spaces in names that need cleaning"
   ]
  },
  {
   "cell_type": "markdown",
   "id": "816f5108",
   "metadata": {
    "cellUniqueIdByVincent": "3572b"
   },
   "source": [
    "## 2. Data Cleaning"
   ]
  },
  {
   "cell_type": "markdown",
   "id": "a39937f7",
   "metadata": {
    "cellUniqueIdByVincent": "e6913"
   },
   "source": [
    "### 2.1 Fix Column Names"
   ]
  },
  {
   "cell_type": "code",
   "execution_count": 2,
   "id": "46bc11a6",
   "metadata": {
    "cellUniqueIdByVincent": "d4daf"
   },
   "outputs": [],
   "source": [
    "# Clean column names\n",
    "df.columns = df.columns.str.replace('  ', ' ').str.strip()"
   ]
  },
  {
   "cell_type": "markdown",
   "id": "b75e9d6d",
   "metadata": {
    "cellUniqueIdByVincent": "1a5ce"
   },
   "source": [
    "### 2.2 Handle Missing Values"
   ]
  },
  {
   "cell_type": "code",
   "execution_count": 3,
   "id": "f9e5c7c7",
   "metadata": {
    "cellUniqueIdByVincent": "df438"
   },
   "outputs": [
    {
     "name": "stdout",
     "output_type": "stream",
     "text": [
      "Missing Values (%): \n",
      "Population                         22.19\n",
      "Hepatitis B                        18.82\n",
      "GDP                                15.25\n",
      "Total expenditure                   7.69\n",
      "Alcohol                             6.60\n",
      "Income composition of resources     5.68\n",
      "Schooling                           5.55\n",
      "BMI                                 1.16\n",
      "thinness 1-19 years                 1.16\n",
      "thinness 5-9 years                  1.16\n",
      "Polio                               0.65\n",
      "Diphtheria                          0.65\n",
      "Life expectancy                     0.34\n",
      "Adult Mortality                     0.34\n"
     ]
    }
   ],
   "source": [
    "# Calculate missing values percentage\n",
    "missing_percent = (df.isnull().mean() * 100).round(2)\n",
    "print('Missing Values (%): ')\n",
    "print(missing_percent[missing_percent > 0].sort_values(ascending=False))"
   ]
  },
  {
   "cell_type": "markdown",
   "id": "2b1e82da",
   "metadata": {
    "cellUniqueIdByVincent": "f74a1"
   },
   "source": [
    "**Decisions:**\n",
    "- Drop 'Population' (22% missing) and 'Hepatitis B' (19% missing)\n",
    "- Fill remaining missing values with median (robust to outliers)"
   ]
  },
  {
   "cell_type": "code",
   "execution_count": 4,
   "id": "12cd08c3",
   "metadata": {
    "cellUniqueIdByVincent": "69c63"
   },
   "outputs": [
    {
     "name": "stdout",
     "output_type": "stream",
     "text": [
      "Remaining columns after dropping: 20\n"
     ]
    }
   ],
   "source": [
    "# Drop high-missing columns\n",
    "df.drop(columns=['Population','Hepatitis B'], inplace=True)\n",
    "print(\"Remaining columns after dropping:\", df.shape[1])"
   ]
  },
  {
   "cell_type": "code",
   "execution_count": 5,
   "id": "5e32ae99",
   "metadata": {
    "cellUniqueIdByVincent": "493b3"
   },
   "outputs": [],
   "source": [
    "# Fill remaining missing values\n",
    "for col in df.select_dtypes(include=['number']):\n",
    "    df[col].fillna(df[col].median(), inplace=True)"
   ]
  },
  {
   "cell_type": "markdown",
   "id": "2ef99a29",
   "metadata": {
    "cellUniqueIdByVincent": "c83c8"
   },
   "source": [
    "### 2.3 Handle Outliers"
   ]
  },
  {
   "cell_type": "code",
   "execution_count": 6,
   "id": "5cab6b6e",
   "metadata": {
    "cellUniqueIdByVincent": "1c675"
   },
   "outputs": [],
   "source": [
    "# Cap outliers at 1st and 99th percentiles\n",
    "num_cols = df.select_dtypes(include=['number']).columns\n",
    "for col in num_cols:\n",
    "    upper = df[col].quantile(0.99)\n",
    "    lower = df[col].quantile(0.01)\n",
    "    df[col] = df[col].clip(lower, upper)"
   ]
  },
  {
   "cell_type": "markdown",
   "id": "50653aba",
   "metadata": {
    "cellUniqueIdByVincent": "d0ab3"
   },
   "source": [
    "## 3. Feature Engineering"
   ]
  },
  {
   "cell_type": "code",
   "execution_count": 7,
   "id": "ebbf6908",
   "metadata": {
    "cellUniqueIdByVincent": "1904a"
   },
   "outputs": [],
   "source": [
    "# One-hot encode categorical variables\n",
    "df = pd.get_dummies(df, columns=['Country', 'Status'])"
   ]
  },
  {
   "cell_type": "markdown",
   "id": "1e02ba7c",
   "metadata": {
    "cellUniqueIdByVincent": "5379d"
   },
   "source": [
    "## 4. Export Cleaned Data"
   ]
  },
  {
   "cell_type": "code",
   "execution_count": 8,
   "id": "2f276eae",
   "metadata": {
    "cellUniqueIdByVincent": "f10d9"
   },
   "outputs": [],
   "source": [
    "# Save cleaned data\n",
    "df.to_csv('life_expectancy_cleaned.csv', index=False)\n",
    "print(\"Data cleaning complete. Saved to 'life_expectancy_cleaned.csv'\")"
   ]
  },
  {
   "cell_type": "markdown",
   "id": "63094842",
   "metadata": {
    "cellUniqueIdByVincent": "2cdf8"
   },
   "source": [
    "## Conclusion\n",
    "\n",
    "The dataset has been cleaned through:\n",
    "- Handling missing values\n",
    "- Treating outliers\n",
    "- Feature encoding\n",
    "\n",
    "The cleaned data is now ready for exploratory analysis and modeling."
   ]
  }
 ],
 "metadata": {
  "vincent": {
   "sessionId": "3ffa519d64c8b31480536ace_2025-08-14T22-36-43-056Z"
  }
 },
 "nbformat": 4,
 "nbformat_minor": 5
}
